{
 "cells": [
  {
   "cell_type": "code",
   "execution_count": null,
   "metadata": {},
   "outputs": [],
   "source": [
    "import pandas as pd\n",
    "\n",
    "df = pd.read_json('test.jsonl', lines=True)"
   ]
  },
  {
   "cell_type": "code",
   "execution_count": 4,
   "metadata": {},
   "outputs": [
    {
     "data": {
      "text/html": [
       "<div>\n",
       "<style scoped>\n",
       "    .dataframe tbody tr th:only-of-type {\n",
       "        vertical-align: middle;\n",
       "    }\n",
       "\n",
       "    .dataframe tbody tr th {\n",
       "        vertical-align: top;\n",
       "    }\n",
       "\n",
       "    .dataframe thead th {\n",
       "        text-align: right;\n",
       "    }\n",
       "</style>\n",
       "<table border=\"1\" class=\"dataframe\">\n",
       "  <thead>\n",
       "    <tr style=\"text-align: right;\">\n",
       "      <th></th>\n",
       "      <th>id</th>\n",
       "      <th>text</th>\n",
       "      <th>label</th>\n",
       "      <th>label_text</th>\n",
       "    </tr>\n",
       "  </thead>\n",
       "  <tbody>\n",
       "    <tr>\n",
       "      <th>0</th>\n",
       "      <td>en_0199937</td>\n",
       "      <td>These are AWFUL. They are see through, the fab...</td>\n",
       "      <td>0</td>\n",
       "      <td>0</td>\n",
       "    </tr>\n",
       "    <tr>\n",
       "      <th>1</th>\n",
       "      <td>en_0863335</td>\n",
       "      <td>I bought 4 and NONE of them worked. Yes I used...</td>\n",
       "      <td>0</td>\n",
       "      <td>0</td>\n",
       "    </tr>\n",
       "    <tr>\n",
       "      <th>2</th>\n",
       "      <td>en_0565010</td>\n",
       "      <td>On first use it didn't heat up and now it does...</td>\n",
       "      <td>0</td>\n",
       "      <td>0</td>\n",
       "    </tr>\n",
       "    <tr>\n",
       "      <th>3</th>\n",
       "      <td>en_0963290</td>\n",
       "      <td>You want an HONEST answer? I just returned fro...</td>\n",
       "      <td>0</td>\n",
       "      <td>0</td>\n",
       "    </tr>\n",
       "    <tr>\n",
       "      <th>4</th>\n",
       "      <td>en_0238156</td>\n",
       "      <td>The glue works fine but the container is impos...</td>\n",
       "      <td>0</td>\n",
       "      <td>0</td>\n",
       "    </tr>\n",
       "    <tr>\n",
       "      <th>5</th>\n",
       "      <td>en_0728007</td>\n",
       "      <td>I was over the moon when I got this. I love su...</td>\n",
       "      <td>0</td>\n",
       "      <td>0</td>\n",
       "    </tr>\n",
       "    <tr>\n",
       "      <th>6</th>\n",
       "      <td>en_0363796</td>\n",
       "      <td>Gotta say, not impressed with the quality. I m...</td>\n",
       "      <td>0</td>\n",
       "      <td>0</td>\n",
       "    </tr>\n",
       "    <tr>\n",
       "      <th>7</th>\n",
       "      <td>en_0254608</td>\n",
       "      <td>I would give this zero stars if I could. This ...</td>\n",
       "      <td>0</td>\n",
       "      <td>0</td>\n",
       "    </tr>\n",
       "    <tr>\n",
       "      <th>8</th>\n",
       "      <td>en_0066041</td>\n",
       "      <td>Two of the glasses were broken when I opened t...</td>\n",
       "      <td>0</td>\n",
       "      <td>0</td>\n",
       "    </tr>\n",
       "    <tr>\n",
       "      <th>9</th>\n",
       "      <td>en_0541277</td>\n",
       "      <td>Doesn’t even work . Did nothing for me :(</td>\n",
       "      <td>0</td>\n",
       "      <td>0</td>\n",
       "    </tr>\n",
       "  </tbody>\n",
       "</table>\n",
       "</div>"
      ],
      "text/plain": [
       "           id                                               text  label  \\\n",
       "0  en_0199937  These are AWFUL. They are see through, the fab...      0   \n",
       "1  en_0863335  I bought 4 and NONE of them worked. Yes I used...      0   \n",
       "2  en_0565010  On first use it didn't heat up and now it does...      0   \n",
       "3  en_0963290  You want an HONEST answer? I just returned fro...      0   \n",
       "4  en_0238156  The glue works fine but the container is impos...      0   \n",
       "5  en_0728007  I was over the moon when I got this. I love su...      0   \n",
       "6  en_0363796  Gotta say, not impressed with the quality. I m...      0   \n",
       "7  en_0254608  I would give this zero stars if I could. This ...      0   \n",
       "8  en_0066041  Two of the glasses were broken when I opened t...      0   \n",
       "9  en_0541277          Doesn’t even work . Did nothing for me :(      0   \n",
       "\n",
       "   label_text  \n",
       "0           0  \n",
       "1           0  \n",
       "2           0  \n",
       "3           0  \n",
       "4           0  \n",
       "5           0  \n",
       "6           0  \n",
       "7           0  \n",
       "8           0  \n",
       "9           0  "
      ]
     },
     "execution_count": 4,
     "metadata": {},
     "output_type": "execute_result"
    }
   ],
   "source": [
    "df.head(10)"
   ]
  },
  {
   "cell_type": "code",
   "execution_count": 2,
   "metadata": {},
   "outputs": [
    {
     "name": "stdout",
     "output_type": "stream",
     "text": [
      "Distribution des classes :\n",
      " 0    1000\n",
      "1    1000\n",
      "2    1000\n",
      "3    1000\n",
      "4    1000\n",
      "Name: label, dtype: int64\n",
      "\n",
      "Fréquence des mots les plus communs :\n",
      " the    7378\n",
      "I      5147\n",
      "and    4434\n",
      "to     4339\n",
      "a      3941\n",
      "it     3431\n",
      "is     2442\n",
      "of     2209\n",
      "for    2191\n",
      "but    1744\n",
      "dtype: int64\n",
      "\n",
      "Longueur moyenne des documents : 33.9262\n",
      "\n",
      "Distribution de la longueur des documents :\n",
      " 2        2\n",
      "3       20\n",
      "4       94\n",
      "5      161\n",
      "6      140\n",
      "      ... \n",
      "292      1\n",
      "315      1\n",
      "328      1\n",
      "329      1\n",
      "447      1\n",
      "Name: text, Length: 193, dtype: int64\n"
     ]
    }
   ],
   "source": [
    "distribution_classes = df['label'].value_counts()\n",
    "\n",
    "word_frequency = df['text'].str.split(expand=True).stack().value_counts().head(10)\n",
    "\n",
    "average_length = df['text'].apply(lambda x: len(x.split())).mean()\n",
    "\n",
    "document_length_distribution = df['text'].apply(lambda x: len(x.split())).value_counts().sort_index()\n",
    "\n",
    "print(\"Distribution des classes :\\n\", distribution_classes)\n",
    "print(\"\\nFréquence des mots les plus communs :\\n\", word_frequency)\n",
    "print(\"\\nLongueur moyenne des documents :\", average_length)\n",
    "print(\"\\nDistribution de la longueur des documents :\\n\", document_length_distribution)\n"
   ]
  },
  {
   "cell_type": "code",
   "execution_count": 5,
   "metadata": {},
   "outputs": [
    {
     "name": "stderr",
     "output_type": "stream",
     "text": [
      "/Users/xinleichen/miniconda3/envs/sklearn/lib/python3.12/site-packages/tqdm/auto.py:21: TqdmWarning: IProgress not found. Please update jupyter and ipywidgets. See https://ipywidgets.readthedocs.io/en/stable/user_install.html\n",
      "  from .autonotebook import tqdm as notebook_tqdm\n"
     ]
    }
   ],
   "source": [
    "import os\n",
    "os.environ[\"TOKENIZERS_PARALLELISM\"] = \"false\"\n",
    "\n",
    "from transformers import AutoTokenizer, AutoModelForSequenceClassification\n",
    "import torch\n",
    "\n",
    "# Charger le tokenizer et le modèle\n",
    "tokenizer = AutoTokenizer.from_pretrained(\"LiYuan/amazon-review-sentiment-analysis\")\n",
    "model = AutoModelForSequenceClassification.from_pretrained(\"LiYuan/amazon-review-sentiment-analysis\")\n"
   ]
  },
  {
   "cell_type": "code",
   "execution_count": 6,
   "metadata": {},
   "outputs": [
    {
     "name": "stdout",
     "output_type": "stream",
     "text": [
      "[0, 0, 0, 0, 1, 0, 1, 0, 1, 0, 1, 0, 0, 0, 1, 0, 1, 0, 2, 0, 0, 1, 0, 0, 0, 0, 0, 0, 0, 0, 0, 0, 0, 2, 4, 0, 0, 0, 0, 0, 0, 1, 0, 0, 0, 2, 0, 4, 0, 0, 4, 0, 3, 0, 0, 0, 0, 0, 0, 0, 0, 0, 0, 0, 0, 0, 0, 0, 0, 0, 2, 0, 0, 0, 0, 0, 0, 2, 0, 0, 0, 0, 0, 0, 0, 0, 0, 0, 2, 0, 2, 0, 0, 0, 0, 0, 0, 0, 3, 0, 0, 0, 0, 1, 0, 0, 0, 0, 2, 0, 0, 0, 0, 0, 0, 0, 0, 0, 0, 0, 0, 0, 0, 0, 0, 0, 0, 0, 0, 0, 1, 0, 0, 0, 1, 0, 0, 1, 0, 0, 4, 0, 2, 2, 0, 0, 1, 0, 0, 0, 0, 0, 0, 0, 0, 0, 0, 0, 0, 0, 1, 0, 0, 0, 0, 0, 0, 4, 1, 0, 0, 0, 0, 0, 0, 4, 0, 0, 0, 0, 0, 0, 1, 0, 0, 0, 1, 0, 0, 0, 0, 0, 4, 0, 0, 0, 0, 0, 0, 0, 0, 1, 0, 0, 4, 0, 0, 0, 2, 0, 0, 0, 2, 0, 0, 1, 0, 0, 1, 0, 0, 0, 0, 0, 1, 0, 0, 0, 0, 0, 0, 0, 1, 0, 0, 0, 0, 0, 3, 0, 4, 0, 0, 2, 0, 0, 0, 0, 0, 0, 0, 0, 1, 0, 0, 0, 0, 0, 3, 2, 4, 2, 0, 0, 2, 0, 0, 2, 0, 0, 0, 0, 0, 0, 0, 0, 0, 0, 0, 0, 0, 0, 0, 1, 0, 0, 0, 0, 1, 0, 1, 0, 0, 0, 0, 0, 0, 0, 0, 0, 0, 0, 0, 0, 1, 1, 0, 0, 0, 0, 0, 0, 0, 0, 0, 0, 0, 0, 0, 0, 0, 4, 4, 0, 0, 0, 1, 0, 0, 0, 0, 0, 0, 0, 0, 0, 4, 4, 0, 0, 0, 0, 0, 0, 0, 0, 0, 0, 0, 4, 0, 0, 0, 0, 1, 0, 0, 0, 0, 0, 0, 0, 0, 0, 0, 0, 0, 0, 0, 0, 0, 0, 0, 0, 4, 0, 0, 1, 0, 0, 0, 0, 0, 0, 0, 0, 1, 0, 0, 2, 0, 0, 4, 0, 0, 0, 0, 0, 1, 0, 0, 0, 1, 0, 0, 0, 0, 0, 0, 1, 2, 0, 1, 0, 0, 2, 0, 0, 0, 0, 0, 0, 0, 0, 0, 0, 0, 0, 0, 0, 0, 0, 0, 0, 0, 0, 0, 0, 1, 0, 1, 0, 0, 0, 0, 1, 0, 0, 0, 0, 0, 0, 0, 0, 0, 0, 0, 0, 4, 0, 0, 2, 0, 0, 0, 0, 1, 2, 0, 2, 0, 0, 0, 4, 1, 2, 0, 1, 0, 0, 0, 0, 0, 1, 0, 0, 0, 2, 0, 0, 0, 0, 0, 0, 1, 0, 0, 0, 2, 0, 2, 4, 0, 0, 0, 0, 0, 0, 0, 0, 0, 1, 0, 0, 0, 0, 0, 0, 0, 0, 2, 2, 3, 0, 0, 0, 4, 0, 2, 0, 0, 0, 4, 0, 1, 0, 0, 0, 0, 0, 0, 3, 0, 0, 0, 0, 0, 0, 0, 0, 1, 0, 0, 0, 1, 0, 0, 0, 1, 0, 0, 0, 0, 0, 0, 0, 0, 0, 0, 0, 0, 1, 0, 0, 0, 2, 0, 0, 2, 0, 0, 0, 0, 0, 2, 0, 0, 1, 0, 0, 0, 0, 0, 1, 0, 0, 1, 0, 2, 0, 0, 0, 0, 0, 0, 2, 0, 0, 0, 1, 0, 0, 0, 0, 0, 0, 0, 0, 0, 1, 2, 0, 0, 0, 0, 0, 0, 0, 0, 0, 0, 0, 2, 0, 0, 0, 0, 0, 0, 4, 0, 0, 0, 0, 0, 0, 0, 0, 0, 0, 0, 0, 1, 0, 0, 1, 0, 0, 0, 0, 0, 0, 0, 1, 0, 0, 1, 0, 1, 0, 0, 1, 3, 0, 0, 0, 0, 4, 0, 0, 4, 0, 1, 0, 0, 0, 0, 4, 0, 0, 0, 0, 0, 0, 0, 0, 0, 0, 0, 0, 0, 0, 0, 2, 0, 2, 0, 0, 0, 0, 0, 0, 0, 0, 0, 0, 0, 0, 0, 0, 0, 0, 0, 0, 4, 0, 1, 0, 2, 0, 0, 0, 4, 0, 1, 0, 0, 1, 1, 0, 0, 0, 0, 0, 0, 0, 0, 0, 4, 0, 1, 0, 1, 0, 0, 0, 2, 0, 0, 0, 1, 0, 0, 0, 0, 0, 0, 3, 0, 0, 0, 0, 0, 0, 0, 0, 0, 0, 0, 0, 0, 2, 0, 0, 0, 0, 0, 0, 0, 0, 0, 0, 0, 0, 0, 0, 0, 0, 0, 0, 0, 4, 0, 0, 4, 2, 0, 0, 0, 0, 0, 0, 0, 3, 0, 0, 1, 0, 0, 0, 0, 0, 0, 2, 4, 0, 0, 0, 0, 0, 0, 0, 0, 0, 0, 0, 4, 1, 0, 0, 0, 1, 0, 0, 0, 0, 0, 0, 0, 1, 0, 0, 0, 0, 0, 0, 0, 0, 0, 1, 0, 0, 2, 0, 0, 0, 0, 0, 0, 0, 0, 0, 0, 0, 0, 0, 4, 0, 0, 0, 0, 1, 0, 0, 0, 0, 0, 0, 2, 0, 0, 0, 0, 0, 4, 0, 0, 0, 0, 0, 0, 0, 1, 0, 0, 0, 0, 0, 0, 0, 0, 0, 0, 0, 0, 1, 1, 0, 2, 0, 0, 1, 0, 0, 0, 0, 0, 0, 0, 0, 0, 0, 3, 0, 0, 0, 0, 0, 0, 0, 0, 0, 0, 0, 0, 2, 0, 0, 4, 0, 0, 0, 0, 0, 0, 0, 2, 0, 1, 0, 0, 0, 0, 2, 0, 1, 0, 0, 0, 0, 0, 0, 0, 0, 4, 0, 0, 0, 0, 0, 0, 0, 0, 1, 0, 0, 0, 0, 0, 0, 1, 0, 1, 0, 3, 2, 0, 0, 0, 0, 2, 2, 0, 0, 1, 0, 2, 1, 0, 1, 0, 0, 1, 2, 4, 0, 0, 1, 4, 0, 0, 4, 1, 2, 0, 2, 1, 1, 2, 2, 0, 0, 0, 4, 0, 1, 1, 2, 0, 0, 0, 2, 1, 0, 0, 1, 3, 0, 0, 0, 2, 4, 1, 2, 0, 3, 2, 3, 0, 2, 2, 2, 0, 0, 1, 1, 1, 0, 2, 0, 1, 2, 2, 0, 0, 0, 2, 0, 1, 0, 3, 0, 0, 1, 3, 0, 0, 0, 0, 2, 0, 0, 0, 0, 1, 2, 0, 0, 0, 4, 1, 1, 0, 2, 4, 0, 1, 0, 0, 1, 0, 0, 1, 1, 3, 0, 1, 1, 2, 4, 2, 2, 1, 0, 2, 0, 0, 0, 0, 0, 1, 0, 0, 2, 2, 0, 0, 2, 1, 2, 2, 0, 4, 4, 4, 0, 0, 1, 0, 0, 0, 3, 2, 0, 0, 0, 2, 0, 2, 4, 3, 0, 1, 0, 4, 0, 0, 2, 1, 2, 0, 0, 0, 0, 1, 0, 0, 0, 2, 2, 0, 4, 2, 2, 0, 0, 2, 1, 1, 3, 0, 0, 0, 2, 0, 1, 2, 0, 2, 2, 3, 4, 2, 1, 3, 4, 2, 0, 2, 1, 1, 1, 1, 0, 1, 2, 0, 1, 0, 3, 0, 0, 2, 2, 0, 1, 3, 1, 0, 0, 0, 4, 0, 1, 2, 0, 2, 0, 1, 1, 1, 2, 4, 4, 3, 1, 2, 2, 0, 0, 0, 0, 0, 2, 0, 0, 2, 0, 2, 4, 0, 3, 1, 1, 0, 1, 1, 2, 0, 1, 2, 1, 0, 0, 1, 1, 4, 1, 0, 2, 0, 0, 0, 0, 2, 0, 1, 0, 2, 2, 0, 2, 1, 2, 0, 0, 0, 2, 2, 0, 1, 0, 2, 1, 4, 1, 4, 1, 3, 0, 0, 3, 1, 2, 0, 4, 0, 2, 1, 0, 0, 3, 0, 1, 0, 0, 0, 0, 0, 1, 0, 0, 1, 0, 4, 3, 0, 0, 1, 2, 0, 2, 1, 0, 0, 2, 1, 3, 4, 4, 4, 0, 0, 1, 2, 0, 0, 0, 1, 0, 0, 1, 2, 0, 0, 0, 0, 1, 1, 0, 0, 3, 0, 2, 0, 0, 0, 2, 0, 3, 4, 0, 0, 2, 1, 2, 0, 1, 0, 1, 0, 3, 1, 1, 1, 2, 2, 1, 1, 0, 0, 0, 0, 1, 2, 0, 1, 1, 1, 2, 0, 0, 1, 1, 1, 4, 3, 2, 0, 0, 0, 1, 0, 0, 0, 0, 2, 2, 2, 2, 1, 0, 1, 0, 0, 0, 0, 1, 0, 3, 1, 1, 1, 2, 3, 0, 0, 0, 0, 0, 0, 0, 2, 2, 0, 0, 1, 3, 1, 0, 0, 0, 0, 1, 2, 0, 4, 4, 2, 3, 0, 1, 2, 0, 1, 2, 0, 0, 0, 1, 0, 1, 2, 0, 0, 0, 0, 0, 1, 0, 0, 0, 0, 3, 2, 1, 0, 1, 2, 2, 1, 1, 0, 0, 1, 0, 2, 0, 2, 0, 0, 2, 0, 2, 0, 0, 3, 0, 1, 3, 0, 1, 1, 1, 1, 1, 3, 1, 0, 2, 1, 1, 1, 3, 1, 0, 2, 2, 4, 1, 3, 4, 3, 0, 2, 4, 2, 1, 4, 3, 1, 1, 0, 0, 0, 2, 1, 1, 0, 0, 0, 4, 0, 0, 0, 1, 1, 1, 1, 0, 1, 1, 1, 3, 1, 3, 0, 0, 2, 4, 3, 1, 0, 2, 0, 1, 1, 0, 0, 0, 0, 3, 3, 0, 0, 2, 1, 2, 2, 4, 0, 2, 2, 0, 2, 0, 1, 3, 1, 0, 2, 2, 0, 2, 1, 3, 3, 0, 0, 1, 1, 1, 0, 2, 2, 1, 2, 0, 1, 0, 1, 2, 1, 4, 0, 1, 0, 2, 4, 0, 4, 1, 0, 1, 0, 1, 1, 0, 1, 2, 0, 2, 0, 4, 0, 0, 4, 0, 2, 2, 1, 0, 0, 0, 1, 1, 1, 0, 2, 0, 1, 1, 1, 3, 1, 0, 2, 2, 0, 1, 1, 0, 0, 1, 4, 1, 0, 2, 1, 1, 0, 4, 2, 0, 1, 0, 0, 2, 2, 0, 1, 1, 1, 0, 0, 0, 0, 4, 1, 3, 1, 0, 0, 3, 2, 2, 2, 0, 2, 0, 0, 0, 0, 0, 0, 2, 1, 0, 1, 0, 0, 1, 1, 0, 1, 1, 0, 4, 0, 0, 3, 0, 0, 1, 2, 2, 3, 1, 0, 1, 2, 0, 1, 1, 1, 0, 2, 1, 0, 1, 0, 0, 2, 0, 1, 0, 0, 2, 1, 4, 0, 1, 0, 0, 0, 0, 0, 3, 0, 0, 0, 0, 1, 4, 0, 2, 1, 1, 2, 2, 0, 0, 3, 0, 2, 0, 2, 1, 1, 0, 3, 3, 0, 2, 1, 1, 2, 1, 2, 4, 0, 0, 0, 0, 0, 1, 0, 0, 1, 0, 0, 0, 3, 0, 2, 3, 0, 0, 0, 0, 0, 2, 0, 0, 2, 3, 0, 2, 0, 0, 1, 0, 1, 0, 4, 2, 0, 0, 0, 4, 1, 1, 2, 4, 1, 2, 0, 1, 0, 1, 0, 1, 4, 0, 1, 0, 1, 2, 0, 0, 1, 2, 1, 0, 2, 0, 2, 0, 2, 0, 1, 1, 0, 0, 1, 0, 3, 0, 0, 0, 0, 0, 1, 2, 0, 0, 4, 2, 3, 2, 1, 0, 0, 1, 2, 0, 1, 1, 0, 0, 3, 0, 1, 0, 4, 0, 2, 1, 1, 0, 0, 0, 1, 1, 1, 0, 0, 1, 1, 0, 0, 2, 2, 0, 0, 2, 2, 2, 1, 4, 0, 2, 3, 1, 0, 0, 3, 0, 2, 1, 2, 0, 0, 0, 2, 0, 2, 2, 4, 1, 2, 1, 0, 2, 1, 0, 0, 2, 0, 0, 3, 4, 1, 0, 4, 2, 1, 1, 2, 0, 0, 2, 0, 0, 0, 2, 2, 0, 1, 1, 0, 1, 1, 0, 0, 4, 1, 0, 3, 2, 3, 2, 3, 0, 0, 0, 2, 2, 2, 3, 0, 4, 2, 3, 2, 2, 0, 2, 1, 0, 1, 2, 0, 2, 4, 1, 0, 1, 3, 3, 2, 3, 1, 2, 4, 0, 0, 0, 2, 2, 1, 2, 2, 2, 2, 4, 2, 2, 4, 4, 0, 4, 4, 2, 4, 2, 1, 1, 1, 0, 1, 2, 1, 3, 2, 0, 2, 2, 1, 0, 2, 2, 2, 0, 0, 1, 3, 1, 2, 3, 0, 2, 1, 0, 4, 0, 3, 2, 3, 2, 4, 1, 0, 1, 4, 4, 3, 3, 4, 3, 0, 2, 0, 4, 4, 3, 3, 2, 3, 3, 2, 0, 4, 2, 0, 1, 2, 2, 0, 3, 1, 2, 0, 3, 0, 2, 2, 2, 2, 3, 4, 2, 1, 3, 2, 3, 3, 2, 4, 2, 2, 3, 1, 0, 2, 4, 2, 4, 2, 2, 3, 2, 2, 4, 1, 3, 2, 0, 4, 1, 3, 1, 3, 3, 1, 2, 0, 2, 3, 2, 1, 2, 4, 2, 2, 3, 3, 0, 2, 0, 1, 1, 0, 0, 3, 1, 1, 3, 3, 2, 2, 0, 3, 1, 4, 2, 0, 4, 4, 2, 1, 3, 0, 2, 2, 0, 0, 3, 3, 3, 2, 3, 2, 2, 3, 2, 4, 2, 2, 2, 4, 3, 3, 0, 3, 0, 2, 1, 0, 1, 0, 1, 1, 2, 3, 1, 2, 2, 3, 4, 0, 1, 0, 0, 0, 4, 2, 2, 2, 0, 0, 1, 0, 1, 0, 2, 2, 3, 2, 1, 0, 3, 4, 2, 2, 1, 0, 1, 3, 1, 3, 1, 4, 2, 4, 2, 3, 4, 2, 1, 2, 4, 0, 2, 2, 3, 1, 2, 2, 3, 2, 0, 0, 2, 3, 3, 2, 4, 0, 3, 0, 3, 2, 0, 2, 1, 1, 2, 0, 2, 4, 0, 0, 2, 2, 2, 2, 4, 2, 1, 2, 2, 0, 2, 1, 4, 2, 2, 2, 2, 1, 3, 2, 3, 2, 0, 2, 4, 0, 3, 4, 3, 4, 2, 2, 2, 2, 2, 3, 1, 2, 1, 1, 0, 3, 1, 3, 3, 3, 2, 0, 2, 1, 3, 0, 2, 0, 2, 1, 4, 1, 1, 0, 3, 2, 2, 0, 3, 0, 0, 2, 4, 2, 3, 2, 3, 2, 0, 3, 4, 2, 2, 3, 0, 1, 0, 1, 3, 1, 4, 3, 1, 2, 2, 1, 3, 3, 0, 0, 2, 2, 0, 1, 2, 3, 4, 1, 2, 1, 0, 4, 4, 3, 3, 2, 3, 2, 2, 2, 2, 3, 2, 1, 0, 2, 2, 2, 2, 0, 3, 4, 3, 3, 3, 1, 2, 2, 2, 1, 1, 2, 2, 2, 0, 0, 2, 2, 2, 3, 4, 4, 0, 2, 2, 2, 0, 2, 2, 2, 4, 1, 3, 3, 2, 3, 2, 0, 4, 3, 3, 2, 3, 1, 2, 3, 4, 2, 3, 1, 1, 2, 2, 3, 3, 1, 2, 2, 1, 3, 2, 3, 2, 2, 2, 3, 3, 2, 2, 2, 1, 0, 2, 3, 0, 4, 0, 0, 1, 1, 2, 1, 2, 2, 2, 2, 1, 2, 3, 0, 3, 2, 4, 4, 2, 4, 2, 4, 3, 2, 2, 3, 2, 2, 0, 4, 2, 0, 2, 2, 3, 3, 2, 2, 0, 1, 3, 3, 4, 3, 0, 0, 2, 1, 2, 3, 4, 0, 3, 2, 2, 1, 2, 2, 2, 2, 0, 0, 1, 1, 2, 0, 1, 3, 0, 2, 3, 0, 2, 0, 3, 2, 3, 0, 0, 1, 1, 2, 2, 1, 4, 3, 3, 3, 4, 4, 2, 2, 4, 1, 3, 2, 0, 0, 0, 3, 3, 1, 1, 0, 3, 1, 1, 4, 2, 2, 2, 0, 3, 2, 2, 2, 2, 4, 0, 3, 0, 2, 2, 2, 2, 0, 3, 1, 2, 3, 4, 0, 2, 2, 3, 0, 2, 2, 2, 1, 2, 3, 2, 2, 2, 3, 2, 3, 2, 2, 1, 4, 3, 4, 1, 0, 2, 3, 2, 2, 0, 2, 2, 4, 3, 0, 3, 0, 0, 2, 2, 2, 0, 4, 4, 2, 4, 3, 2, 0, 1, 1, 2, 0, 0, 1, 1, 2, 4, 0, 3, 3, 0, 0, 2, 3, 1, 1, 4, 0, 3, 2, 1, 3, 2, 0, 1, 2, 3, 2, 0, 2, 1, 3, 3, 2, 1, 0, 3, 3, 1, 2, 2, 3, 0, 0, 1, 2, 3, 2, 3, 0, 0, 1, 4, 4, 1, 2, 0, 3, 0, 2, 2, 2, 4, 3, 2, 4, 0, 0, 3, 0, 1, 4, 3, 3, 0, 3, 3, 2, 3, 4, 4, 0, 2, 2, 2, 0, 2, 2, 0, 3, 0, 1, 2, 2, 0, 3, 4, 2, 1, 2, 2, 0, 3, 2, 1, 3, 0, 2, 3, 2, 1, 1, 3, 1, 0, 2, 2, 4, 2, 3, 0, 1, 2, 4, 0, 1, 3, 0, 1, 0, 2, 1, 4, 0, 1, 0, 3, 2, 0, 0, 4, 2, 1, 4, 0, 3, 1, 2, 2, 2, 1, 1, 3, 2, 0, 1, 3, 2, 1, 4, 2, 2, 0, 0, 2, 3, 4, 3, 2, 0, 3, 2, 4, 4, 1, 4, 2, 2, 0, 3, 1, 2, 2, 4, 2, 3, 3, 1, 3, 0, 2, 1, 0, 2, 3, 3, 3, 4, 2, 2, 2, 4, 0, 2, 1, 0, 4, 2, 0, 3, 3, 2, 1, 2, 2, 1, 1, 0, 0, 2, 2, 0, 2, 3, 0, 2, 0, 0, 0, 2, 4, 3, 0, 1, 3, 2, 2, 4, 3, 2, 1, 1, 0, 2, 3, 0, 2, 1, 3, 2, 0, 2, 2, 3, 4, 0, 3, 3, 1, 2, 3, 3, 0, 1, 1, 2, 3, 4, 3, 0, 2, 0, 1, 4, 2, 1, 4, 1, 0, 2, 4, 2, 0, 1, 0, 1, 1, 2, 4, 0, 2, 0, 3, 0, 2, 2, 1, 2, 4, 0, 3, 3, 1, 4, 4, 4, 4, 4, 3, 3, 4, 4, 2, 4, 4, 2, 3, 4, 3, 3, 4, 4, 4, 4, 4, 2, 4, 4, 3, 3, 3, 3, 3, 4, 4, 3, 4, 3, 4, 4, 3, 1, 4, 4, 4, 4, 4, 4, 2, 2, 4, 4, 4, 3, 4, 4, 4, 3, 2, 4, 1, 3, 3, 3, 2, 3, 2, 0, 0, 3, 3, 4, 3, 4, 2, 4, 3, 3, 3, 4, 4, 0, 3, 4, 3, 3, 3, 2, 3, 3, 3, 3, 3, 3, 2, 3, 3, 3, 4, 4, 4, 2, 3, 2, 4, 2, 4, 4, 3, 3, 3, 4, 4, 3, 4, 4, 4, 3, 4, 4, 4, 4, 4, 3, 3, 4, 4, 2, 4, 3, 2, 4, 4, 2, 4, 4, 3, 3, 4, 4, 3, 4, 4, 4, 3, 4, 4, 2, 1, 4, 3, 2, 4, 3, 2, 4, 4, 4, 3, 2, 2, 0, 4, 4, 3, 3, 4, 1, 4, 3, 4, 4, 2, 3, 3, 4, 3, 3, 2, 3, 2, 3, 3, 2, 3, 4, 3, 2, 4, 0, 4, 3, 4, 3, 3, 2, 4, 4, 4, 3, 4, 4, 3, 3, 4, 4, 3, 4, 1, 4, 4, 3, 4, 2, 2, 4, 2, 4, 3, 3, 4, 4, 4, 3, 3, 2, 4, 4, 3, 4, 3, 4, 2, 0, 2, 3, 1, 4, 4, 4, 4, 4, 4, 3, 3, 4, 4, 3, 4, 4, 4, 4, 2, 4, 4, 4, 4, 3, 4, 3, 4, 3, 4, 4, 4, 4, 3, 3, 3, 4, 2, 3, 3, 4, 4, 4, 4, 4, 3, 4, 3, 2, 4, 4, 3, 4, 3, 4, 4, 3, 3, 2, 3, 4, 4, 3, 3, 4, 4, 2, 4, 3, 0, 3, 3, 4, 4, 3, 3, 4, 4, 3, 2, 3, 3, 4, 4, 4, 4, 3, 4, 3, 3, 2, 3, 4, 4, 4, 2, 3, 4, 4, 2, 4, 4, 3, 4, 4, 3, 2, 3, 3, 3, 3, 4, 4, 4, 3, 3, 4, 2, 4, 4, 3, 4, 4, 3, 3, 3, 4, 3, 1, 4, 3, 4, 3, 3, 2, 4, 4, 3, 4, 3, 2, 2, 3, 4, 2, 4, 3, 3, 3, 3, 3, 4, 4, 4, 3, 3, 4, 4, 4, 3, 4, 3, 4, 3, 3, 4, 3, 4, 2, 3, 4, 4, 3, 4, 4, 2, 4, 0, 1, 3, 3, 4, 3, 3, 2, 4, 3, 2, 4, 2, 4, 3, 2, 4, 4, 2, 4, 3, 2, 3, 3, 4, 3, 2, 3, 4, 2, 3, 0, 3, 3, 0, 4, 2, 2, 3, 3, 3, 2, 3, 4, 2, 3, 3, 3, 4, 4, 3, 4, 4, 3, 4, 2, 4, 3, 4, 2, 4, 4, 4, 4, 4, 3, 4, 3, 2, 3, 4, 4, 3, 3, 4, 3, 3, 2, 4, 4, 4, 2, 2, 4, 2, 2, 3, 2, 3, 4, 3, 3, 4, 3, 3, 2, 4, 4, 3, 4, 4, 4, 3, 3, 4, 4, 4, 3, 4, 4, 4, 0, 3, 3, 2, 4, 3, 2, 4, 0, 4, 2, 4, 4, 4, 4, 4, 3, 3, 4, 4, 3, 3, 4, 4, 3, 3, 0, 4, 3, 4, 4, 4, 4, 4, 3, 2, 4, 4, 2, 3, 3, 3, 3, 4, 3, 3, 3, 4, 4, 4, 4, 3, 4, 1, 3, 4, 2, 3, 4, 4, 2, 4, 4, 4, 3, 3, 0, 4, 2, 4, 4, 4, 3, 3, 3, 0, 4, 3, 4, 4, 3, 3, 3, 2, 4, 0, 2, 4, 3, 2, 4, 3, 4, 4, 3, 2, 4, 3, 2, 4, 4, 3, 2, 2, 3, 2, 4, 3, 3, 4, 3, 4, 4, 3, 3, 4, 4, 3, 4, 4, 4, 4, 4, 4, 0, 3, 2, 4, 4, 4, 2, 4, 3, 4, 3, 4, 0, 4, 3, 4, 2, 4, 4, 4, 4, 4, 4, 4, 4, 3, 3, 0, 3, 4, 3, 2, 3, 4, 0, 3, 0, 4, 4, 3, 4, 0, 3, 3, 4, 3, 4, 3, 4, 4, 4, 4, 2, 4, 3, 4, 3, 4, 4, 4, 3, 2, 4, 2, 3, 4, 4, 4, 3, 4, 4, 2, 3, 2, 4, 4, 3, 3, 4, 3, 4, 4, 2, 4, 3, 3, 2, 4, 2, 2, 2, 3, 4, 4, 3, 3, 4, 4, 3, 4, 4, 4, 3, 3, 3, 3, 4, 3, 4, 3, 4, 3, 3, 4, 4, 4, 2, 2, 3, 4, 4, 3, 4, 3, 3, 3, 4, 4, 2, 4, 4, 3, 4, 4, 4, 4, 4, 3, 2, 3, 3, 4, 2, 3, 3, 4, 3, 4, 3, 4, 3, 3, 3, 4, 2, 3, 3, 3, 3, 3, 3, 4, 4, 4, 1, 3, 4, 4, 4, 2, 3, 4, 2, 1, 4, 4, 4, 4, 4, 4, 4, 4, 4, 3, 4, 4, 3, 4, 2, 2, 3, 4, 4, 4, 3, 4, 3, 4, 3, 3, 3, 4, 4, 2, 4, 3, 3, 2, 2, 4, 2, 3, 4, 3, 3, 3, 3, 2, 3, 4, 3, 4, 2, 3, 4, 2, 4, 3, 3, 4, 3, 3, 3, 3, 3, 3, 3, 2, 3, 4, 4, 4, 2, 3, 2, 3, 3, 2, 4, 2, 3, 3, 3, 2, 3, 4, 3, 3, 4, 4, 4, 2, 0, 3, 4, 4, 4, 3, 4, 4, 4, 2, 4, 4, 4, 3, 2, 3, 4, 4, 3, 3, 4, 4, 2, 4, 2, 4, 4, 4, 3, 3, 3, 2, 3, 4, 4, 4, 2, 4, 3, 4, 3, 3, 4, 3, 4, 2, 4, 3, 3, 3, 4, 4, 4, 3, 0, 3, 4, 3, 4, 4, 4, 4, 3, 3, 3, 4, 3, 4, 1, 4, 2, 4, 3, 4, 3, 2, 0, 3, 4, 3, 4, 3, 4, 4, 4, 3, 3, 3, 4, 3, 3, 4, 4, 3, 3, 4, 4, 4, 4, 4, 4, 4, 4, 4, 2, 4, 4, 4, 4, 4, 4, 4, 4, 4, 4, 4, 3, 4, 4, 4, 4, 4, 4, 4, 4, 4, 4, 4, 4, 4, 4, 4, 4, 4, 4, 4, 4, 4, 4, 4, 4, 4, 4, 4, 4, 4, 4, 4, 4, 4, 4, 4, 4, 3, 4, 4, 4, 4, 4, 0, 4, 4, 4, 3, 4, 4, 4, 4, 4, 4, 2, 4, 4, 4, 4, 4, 4, 4, 4, 4, 4, 4, 4, 4, 4, 4, 4, 4, 4, 4, 4, 4, 4, 4, 4, 4, 4, 3, 4, 4, 4, 4, 4, 4, 4, 4, 4, 4, 4, 4, 4, 4, 4, 4, 4, 4, 4, 4, 4, 3, 4, 4, 4, 4, 4, 4, 4, 4, 4, 4, 4, 4, 4, 4, 4, 4, 4, 4, 4, 4, 4, 4, 4, 4, 4, 4, 4, 4, 4, 4, 4, 4, 4, 4, 4, 4, 4, 4, 4, 4, 4, 4, 4, 4, 4, 4, 4, 4, 4, 4, 4, 4, 4, 4, 4, 4, 4, 4, 4, 4, 4, 4, 4, 4, 4, 4, 4, 4, 4, 4, 4, 4, 3, 4, 4, 4, 4, 4, 4, 4, 4, 4, 4, 4, 4, 4, 4, 4, 4, 4, 4, 4, 4, 4, 4, 4, 4, 4, 4, 4, 4, 4, 4, 4, 4, 4, 4, 4, 4, 4, 4, 4, 4, 4, 4, 4, 4, 0, 4, 4, 4, 4, 4, 4, 4, 4, 4, 4, 4, 4, 4, 4, 4, 4, 4, 4, 4, 4, 3, 4, 4, 4, 4, 4, 4, 4, 4, 4, 4, 4, 4, 4, 4, 4, 4, 4, 4, 4, 4, 4, 4, 4, 4, 4, 4, 4, 4, 4, 4, 4, 4, 4, 4, 3, 4, 4, 4, 4, 4, 4, 4, 4, 4, 4, 4, 4, 4, 4, 3, 4, 4, 4, 4, 4, 4, 4, 4, 4, 4, 4, 4, 3, 4, 4, 4, 4, 4, 4, 4, 4, 4, 4, 4, 4, 2, 4, 3, 4, 4, 4, 4, 4, 4, 4, 4, 4, 4, 4, 4, 4, 4, 4, 4, 4, 4, 4, 4, 4, 4, 4, 4, 4, 4, 4, 4, 4, 4, 4, 2, 4, 4, 4, 4, 4, 4, 4, 4, 4, 0, 3, 3, 4, 4, 3, 4, 4, 4, 4, 4, 4, 4, 4, 4, 4, 4, 4, 4, 4, 4, 4, 4, 4, 4, 4, 4, 4, 3, 4, 4, 4, 4, 4, 4, 4, 4, 4, 4, 4, 4, 4, 4, 4, 4, 4, 4, 4, 2, 4, 0, 4, 4, 4, 4, 4, 4, 4, 4, 4, 4, 4, 4, 4, 4, 4, 4, 4, 3, 4, 4, 4, 3, 4, 4, 4, 4, 4, 4, 4, 4, 3, 4, 4, 4, 4, 3, 4, 4, 4, 4, 4, 4, 4, 4, 4, 4, 4, 4, 4, 3, 4, 4, 4, 4, 3, 4, 4, 4, 4, 4, 4, 4, 3, 4, 4, 4, 4, 4, 4, 4, 4, 4, 4, 4, 4, 4, 4, 4, 4, 4, 4, 4, 4, 4, 4, 4, 4, 4, 4, 3, 4, 4, 4, 4, 4, 4, 4, 1, 4, 4, 4, 4, 4, 4, 4, 4, 4, 4, 4, 4, 0, 4, 4, 4, 4, 4, 4, 4, 4, 4, 4, 4, 4, 4, 4, 0, 4, 4, 4, 4, 4, 4, 4, 3, 4, 4, 4, 4, 4, 4, 4, 4, 4, 4, 4, 4, 4, 4, 3, 4, 4, 4, 4, 4, 4, 4, 4, 4, 4, 4, 4, 4, 4, 3, 4, 3, 4, 4, 4, 4, 4, 4, 4, 4, 4, 4, 4, 4, 2, 0, 4, 4, 4, 4, 4, 4, 4, 4, 4, 4, 4, 4, 4, 4, 4, 4, 4, 4, 4, 4, 4, 4, 4, 4, 4, 4, 4, 1, 4, 4, 4, 4, 4, 4, 4, 4, 3, 4, 4, 4, 3, 4, 4, 4, 4, 4, 4, 4, 4, 4, 4, 4, 4, 2, 4, 4, 4, 3, 4, 4, 4, 4, 4, 4, 4, 4, 4, 4, 4, 4, 4, 4, 4, 4, 4, 2, 4, 4, 4, 4, 4, 4, 4, 4, 3, 4, 4, 1, 4, 4, 4, 4, 4, 4, 4, 4, 4, 4, 4, 4, 4, 4, 4, 4, 4, 4, 3, 4, 4, 4, 4, 4, 4, 4, 4, 4, 4, 4, 4, 4, 4, 3, 4, 4, 4, 4, 4, 4, 4, 4, 4, 4, 4, 4, 4, 4, 4, 3, 4, 4, 4, 4, 4, 4, 4, 4, 4, 4, 4, 4, 4, 4, 4, 4, 4, 4, 4, 4, 2, 4, 4, 4, 4, 4, 4, 4, 4, 4, 4, 4, 4, 4, 4, 4, 4, 4, 4, 4, 4, 4, 4, 4, 4, 4, 4, 4, 4, 3, 4, 4, 4, 4, 4, 4, 4, 0, 4, 4, 4, 4, 4, 4, 4, 4, 4, 4, 4, 4, 4, 4, 4, 4, 4, 4, 4, 4, 4, 4, 4, 4, 4, 4, 4, 4, 4, 4, 4, 4, 4, 4, 4, 4, 4, 4, 4, 4, 4, 4, 4, 4, 4, 4, 4, 4, 4, 4, 4, 4, 4, 4, 4, 4, 4, 4, 4, 4, 4, 4, 4, 3, 4, 4, 4, 4, 4, 4, 3, 4, 4, 4, 4, 4, 4, 4, 4, 4, 4, 4, 4, 4, 4, 4, 4, 4, 4, 4, 4, 4, 4, 4, 4, 4, 4, 4, 4, 4, 4, 4, 4, 4, 4, 2, 4, 4, 4, 4, 4, 4, 4, 4, 4, 4, 4, 4, 4, 4, 4, 4, 4, 4, 4, 4, 4, 2, 4, 4, 4, 4, 4, 4, 4, 4, 4, 4, 4, 4, 4, 4, 4, 4, 4, 4, 4, 4, 4, 1, 4, 4, 4, 4, 3, 4, 4, 4, 4, 4, 2, 4, 4, 4, 4, 4, 4, 4, 4, 4, 2, 4, 4, 4, 4, 4, 4, 4, 4, 4, 4, 2, 4, 4, 4, 4, 3, 4, 4, 4, 4]\n"
     ]
    }
   ],
   "source": [
    "# Préparer les nouvelles données\n",
    "new_data = df['text'].tolist()\n",
    "\n",
    "batch_size = 32  # Ajuster selon les besoins\n",
    "all_predictions = []\n",
    "\n",
    "for i in range(0, len(new_data), batch_size):\n",
    "    batch_texts = new_data[i:i+batch_size]\n",
    "    inputs = tokenizer(batch_texts, return_tensors=\"pt\", padding=True, truncation=True)\n",
    "    with torch.no_grad():\n",
    "        outputs = model(**inputs)\n",
    "    predictions = torch.argmax(outputs.logits, dim=-1)\n",
    "    all_predictions.extend(predictions.tolist())\n",
    "\n",
    "print(all_predictions)\n",
    "\n",
    "device = torch.device('cuda' if torch.cuda.is_available() else 'cpu')\n",
    "model.to(device)\n",
    "\n",
    "# Dans la boucle, déplacer également les données d'entrée sur le GPU\n",
    "inputs = tokenizer(batch_texts, return_tensors=\"pt\", padding=True, truncation=True).to(device)\n",
    "inputs = tokenizer(batch_texts, return_tensors=\"pt\", padding=True, truncation=True, max_length=512)\n"
   ]
  },
  {
   "cell_type": "code",
   "execution_count": 7,
   "metadata": {},
   "outputs": [],
   "source": [
    "# Ajouter les résultats de prédiction au DataFrame\n",
    "df['prediction'] = all_predictions\n",
    "\n",
    "# Enregistrer dans un fichier CSV\n",
    "df.to_csv('predictions.csv', index=False)"
   ]
  },
  {
   "cell_type": "code",
   "execution_count": 8,
   "metadata": {},
   "outputs": [],
   "source": [
    "# !pip install seaborn\n"
   ]
  },
  {
   "cell_type": "code",
   "execution_count": 9,
   "metadata": {},
   "outputs": [],
   "source": [
    "from sklearn.metrics import classification_report, precision_score, recall_score, f1_score, confusion_matrix\n",
    "import seaborn as sns\n",
    "import matplotlib.pyplot as plt"
   ]
  },
  {
   "cell_type": "code",
   "execution_count": 10,
   "metadata": {},
   "outputs": [],
   "source": [
    "true_labels = df['label'].tolist() \n",
    "\n",
    "precision = precision_score(true_labels, all_predictions, average='weighted')\n",
    "recall = recall_score(true_labels, all_predictions, average='weighted')\n",
    "f1 = f1_score(true_labels, all_predictions, average='weighted')\n"
   ]
  },
  {
   "cell_type": "code",
   "execution_count": 11,
   "metadata": {},
   "outputs": [
    {
     "name": "stdout",
     "output_type": "stream",
     "text": [
      "0.5260306513162624\n",
      "0.5414\n",
      "0.5073242734333704\n"
     ]
    }
   ],
   "source": [
    "print(precision)\n",
    "print(recall)\n",
    "print(f1)"
   ]
  },
  {
   "cell_type": "code",
   "execution_count": 12,
   "metadata": {},
   "outputs": [
    {
     "data": {
      "text/plain": [
       "Text(0.5, 1.0, 'Matrice de confusion')"
      ]
     },
     "execution_count": 12,
     "metadata": {},
     "output_type": "execute_result"
    },
    {
     "data": {
      "image/png": "[encoded data removed]",
      "text/plain": [
       "<Figure size 800x600 with 2 Axes>"
      ]
     },
     "metadata": {},
     "output_type": "display_data"
    }
   ],
   "source": [
    "# Calculer la matrice de confusion\n",
    "cm = confusion_matrix(true_labels, all_predictions)\n",
    "\n",
    "# Créer une fenêtre graphique\n",
    "plt.figure(figsize=(8, 6))\n",
    "\n",
    "# Utiliser Seaborn pour dessiner une carte thermique\n",
    "sns.heatmap(cm, annot=True, fmt='d', cmap='Blues')\n",
    "\n",
    "# Ajouter les étiquettes des axes et le titre\n",
    "plt.xlabel('Étiquettes prédites')\n",
    "plt.ylabel('Étiquettes réelles')\n",
    "plt.title('Matrice de confusion')"
   ]
  }
 ],
 "metadata": {
  "kernelspec": {
   "display_name": "tal-ml",
   "language": "python",
   "name": "python3"
  },
  "language_info": {
   "codemirror_mode": {
    "name": "ipython",
    "version": 3
   },
   "file_extension": ".py",
   "mimetype": "text/x-python",
   "name": "python",
   "nbconvert_exporter": "python",
   "pygments_lexer": "ipython3",
   "version": "3.10.13"
  }
 },
 "nbformat": 4,
 "nbformat_minor": 2
}
